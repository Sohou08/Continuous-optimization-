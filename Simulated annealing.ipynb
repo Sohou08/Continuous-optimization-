{
 "cells": [
  {
   "cell_type": "markdown",
   "metadata": {},
   "source": [
    "<h1><font color = \"blue\">Simulated annealing </font></h1>\n",
    "\n",
    "1) Choose a random Xi, select the initial system temperature, and specify the cooling (i.e. annealing) schedule <br>\n",
    "2) Evaluate E(Xi) using a simulation model <br>\n",
    "3) Perturb Xi to obtain a neighboring Design Vector (Xi+1) <br>\n",
    "4) Evaluate E(Xi+1) using a simulation model <br>\n",
    "5) If E(Xi+1)< E(Xi), Xi+1 is the new current solution <br>\n",
    "6) If E(Xi+1)> E(Xi), then accept Xi+1 as the new current solution with a probability e(- /T) where = E(Xi+1) - E(Xi). <br>\n",
    "7) Reduce the system temperature according to the cooling schedule. <br>\n",
    "8) Terminate the algorithm."
   ]
  },
  {
   "cell_type": "code",
   "execution_count": 1,
   "metadata": {},
   "outputs": [],
   "source": [
    "import random\n",
    "import math\n",
    "import numpy as np\n",
    "import matplotlib.pyplot as plt\n",
    "from math import exp"
   ]
  },
  {
   "cell_type": "code",
   "execution_count": 2,
   "metadata": {},
   "outputs": [],
   "source": [
    "interval = (-500, 500)\n",
    "\n",
    "def v(x): ##fitness function\n",
    "    m = 1 + np.cos (0.04 * x)**2\n",
    "    n = np.exp(-x**2 / 20000)\n",
    "    return m * n\n",
    "\n",
    "def f(x):\n",
    "    return -v(x)"
   ]
  },
  {
   "cell_type": "code",
   "execution_count": 3,
   "metadata": {},
   "outputs": [
    {
     "data": {
      "image/png": "[encoded data removed]",
      "text/plain": [
       "<Figure size 432x288 with 1 Axes>"
      ]
     },
     "metadata": {
      "needs_background": "light"
     },
     "output_type": "display_data"
    }
   ],
   "source": [
    "x = np.linspace(-500,500,1000)\n",
    "plt.plot(x, v(x))\n",
    "plt.show()"
   ]
  },
  {
   "cell_type": "code",
   "execution_count": 4,
   "metadata": {},
   "outputs": [],
   "source": [
    "def move_(fraction=1):\n",
    "    \"\"\"Move a little bit x, from the left or the right.\"\"\"\n",
    "    amplitude = (max(interval) - min(interval)) * fraction / 10\n",
    "    delta = (-amplitude/2.) + amplitude * random.random()\n",
    "    return delta\n",
    "\n",
    "\n",
    "def simulated_annealing(max_it,init_temp, alpha, final_temp, initial_state, debug=False):\n",
    "    perturbation = 0\n",
    "    #The initial configuration\n",
    "    current_state = initial_state\n",
    "    #The energy at the initial configuration\n",
    "    states = [current_state]\n",
    "    costs = [f(current_state)]\n",
    "    iterations = [1]\n",
    "    t = init_temp\n",
    "    while (t > final_temp):\n",
    "        for i in range(1, max_it):\n",
    "            #Perturb the configuration and evaluate the difference in terms of energy\n",
    "            perturbation = move_()\n",
    "            next_state = current_state + perturbation\n",
    "            energy_delta = f(next_state) - f(current_state)\n",
    "            if (debug == True):\n",
    "                print(\"Step #: \" + str(i) + \", Temp = \" +str(t)+ \" Energy = \"+ str(f(current_state)) + \" New Energy = \" + str(f(next_state))+\" delta = \" + str(energy_delta))\n",
    "            if ((energy_delta < 0) or (math.exp(-energy_delta/t))>= random.random()):\n",
    "                #accept the new configuration\n",
    "                current_state = next_state\n",
    "            states.append(current_state)\n",
    "            costs.append(v(current_state))\n",
    "            iterations.append(len(iterations))\n",
    "        t = alpha*t\n",
    "        plt.plot(x, v(x), color=\"black\")\n",
    "        plt.scatter(states,costs)\n",
    "    return current_state \n",
    "\n"
   ]
  },
  {
   "cell_type": "code",
   "execution_count": 5,
   "metadata": {},
   "outputs": [
    {
     "name": "stdout",
     "output_type": "stream",
     "text": [
      "best fit of the algorithm: 0.3174893106315615\n",
      "cost function at best fit : 1.9998286504223108\n"
     ]
    },
    {
     "data": {
      "image/png": "[encoded data removed]",
      "text/plain": [
       "<Figure size 432x288 with 1 Axes>"
      ]
     },
     "metadata": {
      "needs_background": "light"
     },
     "output_type": "display_data"
    }
   ],
   "source": [
    "initial_config = 250\n",
    "res = simulated_annealing(max_it=10,init_temp=10,alpha=.85,final_temp=.001,initial_state=initial_config)\n",
    "print (\"best fit of the algorithm:\", \n",
    "       res)\n",
    "print (\"cost function at best fit :\", v(res))"
   ]
  },
  {
   "cell_type": "code",
   "execution_count": null,
   "metadata": {},
   "outputs": [],
   "source": []
  }
 ],
 "metadata": {
  "kernelspec": {
   "display_name": "Python 3",
   "language": "python",
   "name": "python3"
  },
  "language_info": {
   "codemirror_mode": {
    "name": "ipython",
    "version": 3
   },
   "file_extension": ".py",
   "mimetype": "text/x-python",
   "name": "python",
   "nbconvert_exporter": "python",
   "pygments_lexer": "ipython3",
   "version": "3.7.4"
  }
 },
 "nbformat": 4,
 "nbformat_minor": 2
}
