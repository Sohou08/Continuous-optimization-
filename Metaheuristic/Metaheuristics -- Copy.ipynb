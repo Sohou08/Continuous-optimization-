{
 "cells": [
  {
   "cell_type": "markdown",
   "metadata": {},
   "source": [
    "<h1><div class=\"alert alert-block alert-info\">\n",
    "Simplex\n",
    "</div></h1>"
   ]
  },
  {
   "cell_type": "code",
   "execution_count": 2,
   "metadata": {},
   "outputs": [],
   "source": [
    "import numpy as np\n",
    "import matplotlib.pyplot as plt\n",
    "from scipy.optimize import minimize\n",
    "import math"
   ]
  },
  {
   "cell_type": "markdown",
   "metadata": {},
   "source": [
    "In mathematical optimization, Dantzig's simplex algorithm (or simplex method) is a popular algorithm for <b><font color = \"blue\">linear programming</font></b>.\n",
    "\n",
    "The name of the algorithm is derived from the concept of a simplex and was suggested by T. S. Motzkin. Simplices are not actually used in the method, but one interpretation of it is that it operates on simplicial cones, and these become proper simplices with an additional constraint. The simplicial cones in question are the corners (i.e., the neighborhoods of the vertices) of a geometric object called a polytope. The shape of this polytope is defined by the constraints applied to the objective function.\n",
    "\n"
   ]
  },
  {
   "cell_type": "markdown",
   "metadata": {},
   "source": [
    "<h1>Exercises 1</h1>\n",
    "\n",
    "Optimize the function\n",
    "\n",
    "$Min f(x) = \\sum _i^D x^2$\n",
    "\n",
    "$x = [-10,10]$\n",
    "\n",
    "D=2\n",
    "D=10\n",
    "D= 1000\n",
    "\n",
    "Plot the convergence curves"
   ]
  },
  {
   "cell_type": "code",
   "execution_count": 50,
   "metadata": {},
   "outputs": [],
   "source": [
    "import numpy as np\n",
    "import matplotlib.pyplot as plt\n",
    "from scipy.optimize import minimize"
   ]
  },
  {
   "cell_type": "code",
   "execution_count": 48,
   "metadata": {},
   "outputs": [
    {
     "name": "stdout",
     "output_type": "stream",
     "text": [
      "Optimization terminated successfully.\n",
      "         Current function value: 0.000000\n",
      "         Iterations: 31\n",
      "         Function evaluations: 63\n",
      "[0. 0.]\n"
     ]
    }
   ],
   "source": [
    "D=2\n",
    "\n",
    "x = np.arange(-10, 10, .001)\n",
    "\n",
    "x0 = [0,0] #this is the initial guess\n",
    "\n",
    "def function (x):\n",
    "    return sum ((x[:D])**2)\n",
    "res = minimize (function , x0, method = 'nelder-mead', options = {'xatol':1e-8, 'disp': True})\n",
    "print (res.x)"
   ]
  },
  {
   "cell_type": "code",
   "execution_count": 51,
   "metadata": {},
   "outputs": [
    {
     "name": "stdout",
     "output_type": "stream",
     "text": [
      "Optimization terminated successfully.\n",
      "         Current function value: 0.000000\n",
      "         Iterations: 34\n",
      "         Function evaluations: 68\n",
      "[0.]\n"
     ]
    }
   ],
   "source": [
    "D=10\n",
    "\n",
    "def objective(x):\n",
    "    \"\"\"The Rosenbrock function\"\"\"\n",
    "    return sum((x[:D])**2)\n",
    "                                      \n",
    "x = np.arange(-10, 10, .001)\n",
    "\n",
    "x0 = -10\n",
    "\n",
    "res = minimize(objective, x0, method='nelder-mead', options={'xatol': 1e-8, 'disp': True})\n",
    "\n",
    "print(res.x)"
   ]
  },
  {
   "cell_type": "code",
   "execution_count": 45,
   "metadata": {},
   "outputs": [
    {
     "name": "stdout",
     "output_type": "stream",
     "text": [
      "Optimization terminated successfully.\n",
      "         Current function value: 0.000000\n",
      "         Iterations: 34\n",
      "         Function evaluations: 68\n",
      "[0.]\n"
     ]
    }
   ],
   "source": [
    "D=1000\n",
    "\n",
    "def rosen(x):\n",
    "    \"\"\"The Rosenbrock function\"\"\"\n",
    "    return sum((x[:D])**2)\n",
    "                                     \n",
    "x = np.arange(-10, 10, .001)\n",
    "\n",
    "x0 = -10\n",
    "\n",
    "res = minimize(rosen, x0, method='nelder-mead', options={'xatol': 1e-8, 'disp': True})\n",
    "\n",
    "print(res.x)"
   ]
  },
  {
   "cell_type": "markdown",
   "metadata": {},
   "source": [
    "<h1>Exercise 2</h1>\n",
    "\n",
    "Optimize the function\n",
    "\n",
    "$Min f(x) = \\sum _i^D 100*(x_{i+1}-x_i^2)^2+(x_i-1)^2$\n",
    "\n",
    "$x = [-5,10]$ it means that the constraints are\n",
    "\n",
    "D=2\n",
    "D=10\n",
    "D= 1000\n",
    "\n",
    "Plot the convergent curves\n",
    "\n",
    "<h2>Simulating D = 2</h2>"
   ]
  },
  {
   "cell_type": "code",
   "execution_count": 37,
   "metadata": {},
   "outputs": [
    {
     "name": "stdout",
     "output_type": "stream",
     "text": [
      "Optimization terminated successfully.\n",
      "         Current function value: 0.000000\n",
      "         Iterations: 110\n",
      "         Function evaluations: 206\n",
      "[1. 1.]\n"
     ]
    },
    {
     "data": {
      "text/plain": [
       "(array([[1., 1.],\n",
       "        [1., 1.],\n",
       "        [1., 1.]]), array([2.65045900e-18, 6.43252125e-18, 1.09257777e-17]))"
      ]
     },
     "execution_count": 37,
     "metadata": {},
     "output_type": "execute_result"
    }
   ],
   "source": [
    "def rosen(x):\n",
    "    return sum(100.0*(x[1:]-x[:-1]**2.0)**2.0 + (x[:-1]-1)**2.0)\n",
    "                            \n",
    "x0 = np.array([0, 0])\n",
    "res = minimize(rosen, x0, method='nelder-mead',options={'xatol': 1e-8, 'disp': True})\n",
    "print(res.x)\n",
    "\n",
    "res.final_simplex"
   ]
  },
  {
   "cell_type": "markdown",
   "metadata": {},
   "source": [
    "<h2>Simulating D = 10</h2>"
   ]
  },
  {
   "cell_type": "code",
   "execution_count": 124,
   "metadata": {
    "scrolled": true
   },
   "outputs": [
    {
     "name": "stdout",
     "output_type": "stream",
     "text": [
      "Warning: Maximum number of function evaluations has been exceeded.\n",
      "minimum: xmin =  [ 0.95819942  0.92047379  0.83391187  0.70387608  0.52461411  0.28254586\n",
      "  0.06659239  0.08429688 -0.04589073 -0.08591718]\n",
      "cost function at minimum =  5.494759667492491\n"
     ]
    }
   ],
   "source": [
    "x0 = np.zeros(10)\n",
    "res = minimize(rosen, x0, method='nelder-mead',options={'xatol': 1e-8, 'disp': True})\n",
    "\n",
    "print(\"xmin = \", res.x)\n",
    "\n",
    "print(\"cost function at minimum = \", res.fun)"
   ]
  },
  {
   "cell_type": "markdown",
   "metadata": {},
   "source": [
    "<h2>Simulating D = 1000</h2>"
   ]
  },
  {
   "cell_type": "code",
   "execution_count": 125,
   "metadata": {},
   "outputs": [
    {
     "name": "stdout",
     "output_type": "stream",
     "text": [
      "Warning: Maximum number of function evaluations has been exceeded.\n",
      "xmin =  [-2.70445575e-06  2.30078199e-05  1.72701480e-04  1.49232802e-04\n",
      " -3.31030410e-04  3.99923405e-05 -1.79044792e-04  6.90453946e-05\n",
      "  2.24587085e-04 -1.46442082e-05  2.10310442e-04  1.76771918e-05\n",
      " -6.46824161e-05  3.81508717e-04 -9.75883313e-05 -3.65072054e-06\n",
      " -1.21867076e-04 -3.48209268e-04 -3.48084295e-04 -3.43103309e-04\n",
      "  9.41361637e-05 -3.35909139e-04  2.38951958e-04  1.77178699e-04\n",
      " -6.46248765e-05 -1.13909534e-04  1.93341212e-04  2.73520256e-04\n",
      " -8.81209428e-05 -4.18666725e-04  4.27159903e-04 -6.86080865e-05\n",
      " -5.55454526e-04 -2.04180779e-04  9.80605341e-05  1.87655904e-04\n",
      " -2.96006273e-05 -4.19019087e-04 -5.18605675e-05 -4.14848241e-04\n",
      " -6.83077112e-05  2.46200034e-04  1.41418935e-04  2.80637530e-05\n",
      "  1.10194986e-04 -3.52641710e-04  1.23992888e-04 -3.90332541e-04\n",
      " -3.04879595e-05 -1.18661968e-04 -3.00815407e-04  1.19581741e-04\n",
      " -7.33375125e-05  3.36836104e-04  5.65183751e-04 -1.03305548e-04\n",
      " -2.05497633e-04 -5.10709988e-04 -1.31666703e-04 -7.01469397e-05\n",
      "  2.27216375e-05 -9.89986889e-05 -4.17943542e-04  2.84646121e-04\n",
      " -9.71122494e-05 -1.03698588e-04  3.54638142e-05  4.71054494e-05\n",
      "  8.16532765e-05 -6.30063599e-05 -4.42609253e-04 -1.08649059e-05\n",
      " -4.60006947e-04  4.43941844e-05 -1.21892615e-04 -1.70452516e-04\n",
      "  3.33778983e-04 -1.27027740e-04  3.27323143e-04 -2.82292343e-04\n",
      " -1.32786502e-04 -1.20516944e-04  1.19947070e-04 -1.36754158e-04\n",
      " -1.24888608e-04  2.42646256e-05  4.48671755e-04 -8.69599278e-05\n",
      " -2.42660744e-05  9.04182453e-05 -4.95207100e-05 -1.14871932e-04\n",
      "  6.03250019e-05  4.99681193e-05  1.57990250e-05  6.27820850e-06\n",
      "  8.37315214e-05 -1.04111638e-04 -9.59418828e-05  4.23238586e-05\n",
      "  1.21029825e-05  1.12175360e-05 -3.15747191e-04 -1.32331446e-04\n",
      " -6.10468148e-05  3.67851387e-04  3.42699740e-04 -3.65337575e-04\n",
      " -2.00812516e-05 -3.55621909e-04 -4.74865145e-09 -3.56811225e-04\n",
      "  2.36061802e-04  1.96537825e-05 -3.29771850e-04 -1.45589891e-04\n",
      " -5.16107737e-04 -6.83246765e-05 -1.44385566e-04  1.66520055e-04\n",
      "  2.70506873e-06  2.84372566e-05 -1.88779466e-04  1.70339247e-04\n",
      " -1.05387394e-04 -2.65162987e-04  4.71520907e-04  1.80025980e-04\n",
      " -1.82022846e-04 -1.46041750e-04 -5.44350840e-04 -2.55278713e-04\n",
      "  6.40421258e-06 -9.33636052e-05 -4.64875385e-04  2.50889847e-04\n",
      " -1.63282996e-04 -4.05977595e-04 -1.44360005e-04 -6.05564730e-04\n",
      " -2.90215477e-04  3.69402167e-04  3.63039647e-04  1.03064805e-04\n",
      " -1.66967868e-04  3.17425225e-04  3.54299550e-04 -7.07794412e-04\n",
      "  1.73539077e-04 -1.14867428e-04  6.64175616e-05  4.32160531e-04\n",
      "  3.97452662e-05 -4.78563305e-04 -4.52377652e-04 -2.76690984e-05\n",
      "  8.60395456e-05 -1.91381657e-04  6.43136688e-05 -2.00717691e-04\n",
      " -7.86414858e-05 -2.02593360e-04 -4.79669017e-04  3.61868924e-05\n",
      "  4.08805461e-04 -4.11816614e-05 -3.86884580e-04 -2.44219433e-04\n",
      " -4.05656625e-04 -2.73768109e-04  1.25918694e-04  2.75724970e-05\n",
      " -3.68661802e-04 -1.79525118e-04 -4.15074681e-04 -3.23218746e-04\n",
      " -9.29401507e-05 -1.21445962e-05 -1.69603606e-04 -2.16128157e-04\n",
      "  1.35266523e-04 -1.28135372e-04 -1.18843965e-04  1.75611860e-04\n",
      "  1.18498516e-04 -3.98187437e-04 -2.46632194e-04 -1.41797346e-04\n",
      "  1.38964614e-04 -1.86930842e-04  1.91886706e-05 -3.53176701e-04\n",
      " -2.52439050e-04 -3.71364818e-04  3.30116879e-04 -2.43104174e-04\n",
      "  1.71401957e-04 -1.35325852e-04  2.54159239e-04 -4.26799432e-04\n",
      " -6.37423471e-05 -1.17247798e-04  2.84252168e-04 -5.57581457e-05\n",
      " -4.21516907e-04 -2.64783290e-04 -1.53430183e-04 -9.05944209e-05\n",
      " -7.77907118e-05 -8.48339560e-05  9.64060666e-05  4.46696210e-04\n",
      "  1.56216725e-04 -2.02047828e-04  2.05834097e-04 -3.60048534e-04\n",
      "  3.15958627e-04  2.24202992e-04 -2.49169179e-04 -5.15848854e-05\n",
      " -3.84394505e-05 -1.21512808e-05 -2.75457668e-04 -1.57508427e-04\n",
      "  4.04926351e-05  1.49017065e-04 -4.61397225e-04  8.39658661e-05\n",
      " -3.25314366e-04 -1.45900020e-04 -5.00330822e-05 -3.11987500e-04\n",
      "  2.83376726e-05 -9.70306591e-05 -1.74597121e-04 -1.42660302e-04\n",
      "  1.23060802e-04  2.14173095e-05 -1.39532001e-04 -6.61664769e-05\n",
      "  1.92782928e-04 -1.11384282e-04 -4.51016586e-04  2.85404884e-04\n",
      "  2.25388325e-04  3.18915466e-04  3.61523991e-05 -4.95932958e-05\n",
      " -1.30994543e-04 -1.05778855e-04 -8.81421750e-06 -3.31785350e-05\n",
      " -1.31685306e-04  3.00824999e-04  2.63466039e-04 -9.47216556e-05\n",
      " -1.63453838e-04  3.53939598e-05 -4.16466537e-06  2.42611120e-04\n",
      "  2.49552279e-04  3.75626276e-05  2.21684638e-05  2.97865836e-04\n",
      " -1.07388016e-04 -4.49448400e-04  8.20725552e-05 -2.27500386e-04\n",
      " -1.01394753e-04  3.06020176e-04 -3.91351919e-05 -2.95540823e-04\n",
      " -5.69278845e-05 -4.84121592e-05  1.99272195e-04  2.49642258e-04\n",
      " -4.98460932e-05 -5.18816105e-04 -3.88054129e-04 -1.36659359e-04\n",
      " -1.97097429e-05 -2.48461842e-05 -4.63174036e-04  3.56139563e-04\n",
      " -3.68238769e-04 -1.21040402e-04 -1.75658482e-04 -1.80854506e-04\n",
      "  2.77750365e-04  3.87623241e-06 -6.42867115e-05  1.36334252e-04\n",
      " -8.14042543e-05  1.38821747e-04 -2.35766952e-04 -7.28873384e-05\n",
      " -3.99246563e-04 -3.64583324e-05 -1.02578641e-04  9.58907755e-05\n",
      "  2.98754579e-04  4.71388104e-05 -1.56686393e-04 -2.57387004e-04\n",
      "  6.00910272e-05  1.70481713e-07 -6.35360773e-05  4.91182655e-05\n",
      " -2.18196567e-04 -1.19976529e-04  8.88764555e-05  3.33376989e-04\n",
      " -2.82745370e-05  4.14711307e-04 -1.11427225e-04 -2.83551735e-05\n",
      " -1.37310382e-04  7.79828835e-06  5.52721973e-05  3.17016150e-04\n",
      "  5.58111882e-07 -4.61903654e-05 -2.23000796e-05 -3.83173446e-05\n",
      "  3.05675748e-05  1.08764608e-05 -1.52535717e-04 -5.68454215e-05\n",
      " -4.64556743e-04 -9.27328452e-05 -1.26593798e-04  7.71780063e-05\n",
      "  2.41518237e-04  1.26035398e-04 -1.44209021e-04 -2.78820536e-04\n",
      " -6.27023261e-05  4.67101645e-05 -1.84232014e-04 -1.35441574e-04\n",
      " -7.19485657e-05 -1.69963328e-04 -3.55465176e-06 -2.30914516e-04\n",
      "  1.02450713e-05 -1.45723919e-04  3.20061134e-05 -5.01542483e-04\n",
      "  2.18145100e-04  4.77195469e-05  4.10003791e-05 -1.68489197e-04\n",
      "  1.89254282e-04  1.63711712e-04 -2.08554715e-05  3.55874495e-04\n",
      " -4.76509630e-04  9.15456729e-05 -1.23314889e-05 -1.41390472e-05\n",
      " -1.32121280e-04 -1.98815844e-04 -5.18843656e-04  2.92020976e-04\n",
      " -3.90618334e-05 -1.01599219e-04 -1.69172674e-04 -9.20184686e-05\n",
      "  1.32798039e-04 -1.10325767e-04  4.05998195e-05  6.28057608e-06\n",
      "  3.12148986e-04  3.64881573e-05 -3.92841419e-04  2.01228890e-04\n",
      " -3.90109945e-04 -2.29833226e-04 -8.20760676e-05 -5.07789692e-04\n",
      " -1.64077889e-04 -5.11412072e-04 -5.00274616e-04 -1.10389165e-04\n",
      " -1.46104623e-04  2.34642760e-04 -1.42824558e-04  1.29230641e-04\n",
      "  4.08986517e-05 -5.67130023e-04 -2.17318125e-04 -1.04461472e-04\n",
      " -1.75529434e-04 -6.41132816e-05 -4.42395452e-04 -1.00569785e-04\n",
      "  2.42062283e-04  7.63271907e-06  8.49580261e-05 -9.97220551e-05\n",
      " -1.57643977e-04 -1.65039316e-05 -1.57528520e-04 -1.74615812e-04\n",
      "  2.23037864e-04 -3.35692684e-04 -1.62703823e-04  7.53539183e-06\n",
      " -9.97949628e-05  5.31093377e-05 -1.31491040e-04 -1.27500981e-04\n",
      " -1.84624737e-04 -4.58722941e-05  2.22785593e-04  1.83536884e-05\n",
      " -6.08324576e-04 -3.38158315e-04  2.06513591e-04 -1.39602793e-04\n",
      " -1.20061206e-04 -4.50681480e-04 -5.31001523e-04 -1.03852928e-04\n",
      " -3.84373711e-05 -7.70484460e-05 -3.38303451e-04 -1.49518889e-04\n",
      " -5.27723494e-04  3.88098829e-04 -1.24449338e-04 -4.40568893e-05\n",
      " -5.92490739e-04 -2.19419385e-04  1.05489712e-04 -1.11068971e-05\n",
      "  1.35273006e-04  1.32053029e-04  6.06284454e-05 -1.15780319e-06\n",
      " -1.65227895e-04  1.11973651e-04 -1.11430050e-04 -1.18352268e-04\n",
      " -1.31134275e-05 -2.16213058e-04 -1.20896178e-04 -1.54550574e-04\n",
      " -2.65282706e-05 -2.59562035e-05 -9.09000219e-05 -4.87534446e-05\n",
      "  3.02115250e-07 -4.47214817e-04 -5.54248607e-05 -5.36344515e-05\n",
      " -3.32077779e-04 -2.79699508e-04 -1.36337831e-04  2.56443696e-04\n",
      "  1.32559315e-04  8.41677228e-05 -3.30932817e-04  2.32463191e-04\n",
      " -1.35718389e-04  3.59850033e-04 -4.14755412e-04 -1.11952645e-05\n",
      " -3.45648547e-04 -1.96664719e-04  2.41954144e-04 -1.62022771e-04\n",
      " -4.81585262e-04 -1.73478674e-05  1.54394319e-05 -5.11701846e-05\n",
      " -3.05614346e-04 -6.82734808e-05  1.29308410e-04 -2.31632278e-06\n",
      "  4.16105734e-04 -3.87651726e-04 -5.78070753e-04 -3.48775257e-04\n",
      "  2.26580180e-04  1.44671459e-04  3.16937112e-04 -3.81883198e-04\n",
      " -2.40046848e-04 -2.96260838e-04 -3.59316387e-05 -5.44251915e-05\n",
      " -5.03754596e-05  1.96344232e-05 -6.40615080e-05  7.60714615e-05\n",
      " -3.03923535e-04 -1.43688500e-04 -3.98805050e-04 -4.65699367e-04\n",
      "  3.43630624e-04 -1.64634457e-04 -3.70678155e-04  9.73242256e-05\n",
      "  2.31751133e-04 -3.89526083e-04 -8.59809449e-05 -6.90152324e-05\n",
      " -1.98808188e-04 -3.41485190e-04 -3.78182905e-04 -1.09135293e-04\n",
      "  1.11692105e-04  6.36636896e-04  3.25188580e-04  1.33096279e-04\n",
      "  1.97105139e-04  8.93623305e-06  8.87327932e-05 -1.07002769e-04\n",
      "  1.49886274e-04  2.07939202e-04  4.53458250e-05  1.74312966e-04\n",
      "  2.36433882e-05  6.68718320e-04 -1.00701010e-04  1.90300437e-04\n",
      "  4.39679125e-04  3.39685023e-04  9.60197222e-06 -6.68386143e-05\n",
      "  2.62029009e-04  3.44028435e-04 -1.29023646e-04  2.93894684e-04\n",
      "  6.31126902e-05  2.16833290e-04 -2.96319781e-04 -1.81039233e-04\n",
      "  2.80033993e-04  2.63754506e-04 -3.24858354e-04 -2.86616147e-04\n",
      "  2.90952422e-04 -1.98834607e-04  1.18961702e-04  8.07592667e-05\n",
      " -2.96184059e-04  2.97371353e-05 -1.09068457e-05 -3.09261381e-05\n",
      "  1.46135995e-04  5.22969759e-04 -3.77889032e-05  2.92035951e-04\n",
      "  4.46118866e-04  2.33747740e-05  2.60503222e-04 -1.45974190e-04\n",
      "  1.48538772e-04  2.94098841e-04 -1.10034982e-04  2.92568950e-04\n",
      "  1.91420452e-04  1.83147003e-04  4.81224983e-04 -5.26125317e-05\n",
      "  1.69485222e-04  1.26357794e-04  2.27566384e-04 -1.49481659e-04\n",
      " -1.16702094e-04  2.27184767e-04  1.30773361e-05  3.89908299e-04\n",
      "  6.79879364e-04  3.13117196e-04  2.19231974e-04  9.47328475e-05\n",
      "  1.25753715e-04 -1.92418586e-04 -5.01750147e-04  5.63753623e-05\n",
      "  2.19801911e-04 -1.35405044e-04  4.46398049e-04  9.47923173e-05\n",
      "  3.92565000e-04  5.00475601e-05  2.78682377e-04  2.05846888e-04\n",
      "  2.57134005e-04  3.80855764e-04 -3.90268270e-05 -6.66010136e-05\n",
      " -2.62932473e-04  8.81010150e-05  1.16849601e-04  2.89611917e-04\n",
      "  2.85288671e-04  2.12289440e-05 -4.76660573e-05  2.07551836e-04\n",
      "  2.96429898e-04  2.29594069e-04  3.57353716e-04 -1.01291850e-04\n",
      "  1.32704632e-04  4.68961912e-04  5.54032449e-04 -1.07401402e-04\n",
      "  2.35062084e-04  3.16520987e-06 -1.56422167e-05 -4.59198478e-07\n",
      "  1.33436774e-04  7.69549953e-05 -2.14865362e-04  5.24115890e-05\n",
      "  7.85737275e-05  3.92723545e-04  2.99462244e-05  2.14244220e-04\n",
      " -2.36427884e-05 -4.16954224e-04 -1.88129424e-05  2.22926572e-04\n",
      "  2.17735505e-04 -4.43816505e-04  1.73309018e-04 -3.11653942e-04\n",
      " -1.85548562e-05  1.22001308e-04  3.67567999e-04  1.99544700e-04\n",
      "  2.87720985e-05  6.98458094e-05  2.82765184e-04  2.54302922e-05\n",
      " -1.92800253e-04  3.66888547e-04 -7.16181878e-05  3.91862254e-04\n",
      " -1.71295880e-05  4.07017240e-04  2.90091852e-04  3.35235852e-06\n",
      "  3.24341613e-04  4.30646947e-05 -4.50554477e-04  2.58146200e-05\n",
      "  9.46682618e-05 -2.85083374e-04  6.85191259e-05  3.25633572e-05\n",
      "  3.04640481e-04  1.84889865e-04 -4.30402953e-04 -1.24599882e-04\n",
      "  6.29899388e-04  1.20514653e-04  5.73561488e-04  2.64955930e-04\n",
      " -1.16849666e-04 -3.90344832e-05  1.33701986e-04  3.70131787e-04\n",
      "  1.68177911e-04 -2.15245065e-04  6.46132765e-05 -3.88948950e-04\n",
      "  2.18972349e-05 -1.84831669e-04  1.32100426e-04  5.27812206e-05\n",
      "  8.02450795e-05  9.20607170e-05  3.01013255e-04  4.27222031e-04\n",
      " -5.62990550e-05  3.81735738e-04  2.77178118e-04  5.07385681e-04\n",
      "  2.32003985e-04 -6.65132408e-05  2.66304119e-04  2.03905549e-04\n",
      "  1.04551454e-04  2.29578017e-04  4.46729889e-04  4.25795930e-04\n",
      "  1.63842231e-04 -1.60361526e-04  5.65723915e-05  2.12538370e-04\n",
      "  3.40747773e-05 -1.97219290e-04  2.73807769e-04 -3.39738310e-05\n",
      "  1.16878943e-04  7.02832391e-04  3.06840892e-04  2.86912666e-04\n",
      "  2.58759611e-04  5.63673249e-05  1.71776426e-04  2.70136001e-05\n",
      "  5.30612535e-04  1.89727927e-04  2.59788334e-05  2.57104075e-05\n",
      " -2.93564185e-04  3.56326085e-05  3.20342916e-04  6.87154366e-05\n",
      "  1.56284792e-04  7.13907227e-05  3.90320076e-04  4.33449077e-04\n",
      "  5.43911078e-04 -1.91791190e-04  3.31092619e-05 -3.52627467e-05\n",
      "  7.48112031e-06  3.67213955e-04  4.90217578e-06 -3.07130489e-04\n",
      " -1.30811138e-04  1.72603902e-04  2.51581020e-04  2.63275118e-04\n",
      "  6.60480648e-05 -1.86479655e-04  8.56710569e-05 -8.14298776e-05\n",
      "  5.50065219e-05  2.36438039e-04  1.15574545e-04  9.30553192e-05\n",
      "  3.49212257e-04  7.63431687e-05 -4.49550388e-05  2.22405413e-04\n",
      " -3.82980657e-04  1.47189081e-04  2.57580418e-04 -1.65501972e-04\n",
      " -3.03548275e-04  5.85927665e-05  4.01927419e-04  5.84431252e-04\n",
      "  9.61314705e-05  1.22714061e-04  8.90454344e-05 -8.73342848e-05\n",
      " -5.03342103e-05  8.37291343e-05 -4.97455614e-05  5.13879552e-04\n",
      "  2.17983917e-04  4.38945246e-04  6.75871352e-04  3.64231515e-04\n",
      " -6.36425593e-05 -1.63944399e-04  7.61661490e-04  1.36162234e-04\n",
      " -1.68924579e-04  4.15813997e-04 -1.80926382e-04  2.40508732e-05\n",
      "  2.52654324e-04 -3.27722881e-05 -7.50059171e-05  9.65910760e-05\n",
      "  2.06875959e-04  5.20453982e-04  3.44818433e-04  4.90254807e-05\n",
      " -8.79073637e-05  6.89421207e-05  4.01099160e-04 -4.62626860e-05\n",
      "  1.62850666e-04  1.65763160e-04  3.38078345e-04  1.14054843e-04\n",
      "  2.34113942e-04 -3.68150783e-04 -5.61682066e-05 -2.92165862e-04\n",
      "  4.52179035e-04 -6.83401886e-05  2.70835787e-05  1.22284446e-04\n",
      "  2.28781342e-04  1.25427680e-04  6.75544104e-05  3.73650843e-04\n",
      "  9.81828603e-05  4.22366982e-05  4.26607677e-04  2.25774833e-04\n",
      "  1.48090941e-04  3.95661917e-04  1.24814670e-04  2.52751779e-04\n",
      "  7.87790214e-05  7.84243216e-05 -4.29133351e-05  9.36697827e-05\n",
      "  4.44731134e-04  3.05295711e-05 -2.60169622e-04  7.92059170e-05\n",
      " -4.53723589e-04  3.92485009e-05 -2.70150804e-05  1.04021624e-04\n",
      "  1.97720487e-05  3.27623199e-04 -2.43752266e-04 -1.80268204e-05\n",
      "  6.02946298e-05  8.23543979e-05  4.22211093e-04  3.95985118e-04\n",
      "  8.09510827e-05 -2.64340336e-04  4.21696723e-04  3.28044357e-04\n",
      "  2.39008578e-04  7.22460862e-05 -1.48248557e-04 -3.82297788e-04\n",
      " -4.89254472e-05 -1.69186001e-05  4.27713124e-04  2.36311115e-04\n",
      " -1.36747258e-05 -2.59148535e-04  1.50352810e-04  2.02694028e-04\n",
      "  1.19850490e-04  1.78709948e-04 -2.63972299e-05  1.14312316e-04\n",
      " -1.79784930e-04  1.26052359e-04 -1.32353275e-04  2.06055776e-04\n",
      "  3.73499128e-04  2.63322416e-04  3.01774855e-04 -4.17665725e-04\n",
      "  2.00488835e-04 -3.18211986e-04 -2.86162837e-04 -1.13805332e-04\n",
      "  1.65118755e-04 -8.40084534e-05 -6.78575471e-05  1.67976145e-04\n",
      " -2.40234632e-04  2.83340495e-04 -5.94388781e-05  1.19901559e-04\n",
      " -7.55100181e-05  3.53876118e-04 -1.18618964e-05  2.36033429e-04\n",
      "  5.06018890e-04  4.42757621e-04  1.02205348e-05 -8.66628555e-05\n",
      "  7.95045374e-06 -2.89697735e-05 -1.62963554e-05  3.09724876e-05\n",
      " -2.85627659e-04  4.53653225e-04 -3.79254114e-04  3.69063147e-04\n",
      "  2.16750949e-04 -1.37314842e-04  1.26658694e-04 -8.29065349e-05\n",
      "  1.00845159e-04  9.34173209e-06 -2.17565052e-04 -4.49126767e-05\n",
      "  7.69853247e-05  9.43421479e-05  9.12175950e-06  2.26512739e-04\n",
      " -4.94051354e-04 -2.09751366e-04  5.05437706e-04 -2.96185035e-04\n",
      " -1.67329808e-04  4.00285562e-04  3.41554547e-04  2.83246216e-04\n",
      "  1.63013671e-04 -1.55290525e-04  4.92905019e-04 -2.69447059e-05\n",
      " -4.30625906e-04 -2.58557086e-04  2.82000088e-04  1.37975021e-04\n",
      "  2.59110164e-04  2.71914920e-04  3.17127703e-04  1.04367064e-04\n",
      " -1.30891276e-04  6.18236696e-05  7.51942384e-06 -7.04560073e-06\n",
      "  2.09640943e-04  2.24096271e-04  4.39567299e-04  1.18968491e-04\n",
      "  1.81838826e-04  1.77363775e-04  4.51855030e-04 -2.04239976e-04\n",
      "  1.44193041e-04 -1.05145204e-04  1.71511349e-04  1.56211741e-04\n",
      "  3.32611183e-04 -3.31063976e-05  5.17150733e-04  2.72074451e-04\n",
      "  3.46002272e-04 -1.25820366e-04  1.97512486e-04 -2.66046862e-04\n",
      " -7.30856986e-05 -8.48595226e-05 -4.48496504e-05  3.74212491e-04\n",
      "  3.11750076e-05  4.37104573e-04  1.28400374e-04  2.00631831e-04\n",
      " -4.84867403e-05 -1.11312382e-04  4.43184070e-04  4.41497191e-04\n",
      " -9.46391688e-05  3.93027889e-04  1.23195674e-04  8.11291283e-05\n",
      "  4.24135303e-04 -1.68786086e-04  2.37649625e-04 -3.30786921e-05\n",
      "  4.62898931e-04  3.88889098e-04  1.74765901e-04  2.78723028e-04\n",
      "  2.68056306e-04 -6.78403709e-06 -1.92326732e-04 -7.71617007e-05\n",
      "  6.85952809e-05  3.29146048e-04  8.75934909e-05 -1.16084440e-05\n",
      "  5.73966692e-04  2.44678483e-04  5.57070407e-04  4.84060063e-04\n",
      "  7.57772975e-05  5.48388721e-04 -4.14185095e-05 -2.18257625e-04\n",
      "  2.22518730e-04  3.70747349e-05 -1.68414710e-05  4.34231522e-05\n",
      "  3.92109926e-05 -3.01094479e-05  2.52458518e-04  1.39576484e-05\n",
      "  2.91099687e-05  1.35875897e-04  7.80274199e-04 -3.36860282e-04\n",
      "  4.20258984e-04 -5.63779109e-05  6.80245658e-04 -1.75369525e-04\n",
      "  1.68804298e-04  4.09445867e-04  2.01566484e-04 -9.65923175e-03]\n",
      "cost function at minimum =  998.9749717571021\n"
     ]
    }
   ],
   "source": [
    "x0 = np.zeros(1000)\n",
    "res = minimize(rosen, x0, method='nelder-mead',options={'xatol': 1e-8, 'disp': True})\n",
    "\n",
    "print(\"xmin = \", res.x)\n",
    "\n",
    "print(\"cost function at minimum = \", res.fun)"
   ]
  },
  {
   "cell_type": "code",
   "execution_count": null,
   "metadata": {},
   "outputs": [],
   "source": []
  },
  {
   "cell_type": "markdown",
   "metadata": {},
   "source": [
    "<h1><div class=\"alert alert-block alert-success\">\n",
    "Sequential Least Squares Programming\n",
    "</div></h1>"
   ]
  },
  {
   "cell_type": "markdown",
   "metadata": {},
   "source": [
    "<h1>Exercise 3</h1>\n",
    "\n",
    "Optimize the function\n",
    "\n",
    "$Min f(x) = \\sum _i^D 100*(x_{i+1}-x_i^2)^2+(x_i-1)^2$\n",
    "\n",
    "$x = [-5,10]$ it means that the constraints are $x \\seq 10$ and $x \\geq 10$ \n",
    "\n",
    "D=2\n",
    "D=10\n",
    "D= 1000\n",
    "\n",
    "Plot the convergent curves"
   ]
  },
  {
   "cell_type": "code",
   "execution_count": 120,
   "metadata": {},
   "outputs": [
    {
     "name": "stdout",
     "output_type": "stream",
     "text": [
      "[10. 10.]\n",
      "[10. 10.]\n",
      "[10. 10.]\n",
      "[9.99999993 9.99999943]\n",
      "[10. 10.]\n",
      "[9.9999995  9.99999203]\n",
      "[9.99999275 9.99984439]\n",
      "[9.99997842 9.99941602]\n",
      "[10. 10.]\n",
      "[10. 10.]\n",
      "Final result: \n",
      "[10. 10.]\n"
     ]
    },
    {
     "data": {
      "text/plain": [
       "810081.0"
      ]
     },
     "execution_count": 120,
     "metadata": {},
     "output_type": "execute_result"
    }
   ],
   "source": [
    "#Method SLSQP uses Sequential Least SQuares Programming\n",
    "\n",
    "def function_(x):\n",
    "    return sum(100.0*(x[1:]-x[:-1]**2.0)**2.0 + (x[:-1]-1)**2.0)\n",
    "\n",
    "x0 = np.array([1.2, 1.5])\n",
    "\n",
    "cons_ = ({'type': 'ineq', 'fun': lambda x: (x - 10)},\n",
    "        {'type': 'ineq', 'fun': lambda x: (x + 5)})\n",
    "\n",
    "bnds_ = ((-5, 10), (-5, 10))\n",
    "\n",
    "def print_xk(x):\n",
    "    print(x)\n",
    "\n",
    "res = minimize(function_, x0, method='SLSQP', bounds=bnds_, constraints=cons_, callback=print_xk)\n",
    "\n",
    "print(\"Final result: \")\n",
    "\n",
    "print(res.x)\n",
    "\n",
    "function_(res.x)"
   ]
  },
  {
   "cell_type": "code",
   "execution_count": 53,
   "metadata": {},
   "outputs": [
    {
     "data": {
      "text/plain": [
       "array([1.4, 1.7])"
      ]
     },
     "execution_count": 53,
     "metadata": {},
     "output_type": "execute_result"
    }
   ],
   "source": [
    "res.x"
   ]
  },
  {
   "cell_type": "code",
   "execution_count": 117,
   "metadata": {},
   "outputs": [
    {
     "name": "stdout",
     "output_type": "stream",
     "text": [
      "[10. 10.]\n",
      "[10. 10.]\n",
      "[10. 10.]\n",
      "[9.99999993 9.99999943]\n",
      "[10. 10.]\n",
      "[9.9999995  9.99999203]\n",
      "[9.99999275 9.99984439]\n",
      "[9.99997842 9.99941602]\n",
      "[10. 10.]\n",
      "[10. 10.]\n",
      "Final result: \n",
      "[10. 10.]\n"
     ]
    },
    {
     "data": {
      "text/plain": [
       "810081.0"
      ]
     },
     "execution_count": 117,
     "metadata": {},
     "output_type": "execute_result"
    }
   ],
   "source": [
    "#Method SLSQP uses Sequential Least SQuares Programming\n",
    "\n",
    "\n",
    "def function_(x):\n",
    "    return sum(100.0*(x[1:]-x[:-1]**2.0)**2.0 + (x[:-1]-1)**2.0)\n",
    "\n",
    "x0 = np.array([1.2, 1.5])\n",
    "\n",
    "cons_ = ({'type': 'ineq', 'fun': lambda x: (x - 10)},\n",
    "        {'type': 'ineq', 'fun': lambda x: (x + 5)})\n",
    "\n",
    "bnds_ = ((-5, 10), (-5, 10))\n",
    "\n",
    "def print_xk(x):\n",
    "    print(x)\n",
    "\n",
    "res = minimize(function_, x0, method='SLSQP', bounds=bnds_, constraints=cons_, callback=print_xk)\n",
    "\n",
    "print(\"Final result: \")\n",
    "\n",
    "print(res.x)\n",
    "\n",
    "function_(res.x)"
   ]
  },
  {
   "cell_type": "markdown",
   "metadata": {},
   "source": [
    "<h1><div class=\"alert alert-block alert-warning\">\n",
    "Simulated Annealing\n",
    "</div></h1>"
   ]
  },
  {
   "cell_type": "markdown",
   "metadata": {},
   "source": [
    "<h2>Dual Annealing</h2>"
   ]
  },
  {
   "cell_type": "code",
   "execution_count": 111,
   "metadata": {},
   "outputs": [
    {
     "name": "stdout",
     "output_type": "stream",
     "text": [
      "global minimum: xmin = [0.99999953 0.999999   0.99999802 0.99999594 0.99999182], f(xmin) = 0.000000\n"
     ]
    }
   ],
   "source": [
    "from scipy import optimize\n",
    "\n",
    "lw = [-5,-5,-5,-5,-5]\n",
    "up = [10,10,10,10,10]\n",
    "\n",
    "def f(x):\n",
    "    return sum(100.0*(x[1:]-x[:-1]**2.0)**2.0 + (x[:-1]-1)**2.0)\n",
    "\n",
    "res = optimize.dual_annealing(f, bounds=list(zip(lw, up)))\n",
    "\n",
    "print(\"global minimum: xmin = {0}, f(xmin) = {1:.6f}\".format(res.x, res.fun))"
   ]
  },
  {
   "cell_type": "markdown",
   "metadata": {},
   "source": [
    "Using the package that the teacher \n",
    "\n",
    "https://github.com/perrygeo/simanneal"
   ]
  },
  {
   "cell_type": "markdown",
   "metadata": {},
   "source": [
    "<h1><font color = \"blue\">Simulated annealing from scratch</font></h1>\n",
    "\n",
    "1) Choose a random Xi, select the initial system temperature, and specify the cooling (i.e. annealing) schedule <br>\n",
    "2) Evaluate E(Xi) using a simulation model <br>\n",
    "3) Perturb Xi to obtain a neighboring Design Vector (Xi+1) <br>\n",
    "4) Evaluate E(Xi+1) using a simulation model <br>\n",
    "5) If E(Xi+1)< E(Xi), Xi+1 is the new current solution <br>\n",
    "6) If E(Xi+1)> E(Xi), then accept Xi+1 as the new current solution with a probability e(- /T) where = E(Xi+1) - E(Xi). <br>\n",
    "7) Reduce the system temperature according to the cooling schedule. <br>\n",
    "8) Terminate the algorithm."
   ]
  },
  {
   "cell_type": "markdown",
   "metadata": {},
   "source": [
    "The perturbation in simulated annealing would be around $10^{-4}$ and $10^{-2}$"
   ]
  },
  {
   "cell_type": "code",
   "execution_count": 10,
   "metadata": {},
   "outputs": [
    {
     "name": "stdout",
     "output_type": "stream",
     "text": [
      "best fit of the algorithm: [-1.27089247  1.72187887  3.03395653  9.00093504 81.04309192]\n",
      "cost function at best fit : 79.67488421069064\n"
     ]
    },
    {
     "data": {
      "image/png": "[encoded data removed]",
      "text/plain": [
       "<Figure size 432x288 with 1 Axes>"
      ]
     },
     "metadata": {
      "needs_background": "light"
     },
     "output_type": "display_data"
    }
   ],
   "source": [
    "import random\n",
    "import math\n",
    "import numpy as np\n",
    "import matplotlib.pyplot as plt\n",
    "\n",
    "interval = (-5, 10)\n",
    "\n",
    "def f(x):\n",
    "    return sum(100.0*(x[1:]-x[:-1]**2.0)**2.0 + (x[:-1]-1)**2.0)\n",
    "\n",
    "def move_(fraction=1):\n",
    "    \"\"\"Move a little bit x, from the left or the right.\"\"\"\n",
    "    amplitude = (max(interval) - min(interval)) * fraction / 10\n",
    "    delta = (-amplitude/2.) + amplitude * random.random()\n",
    "    return delta\n",
    "\n",
    "def simulated_annealing(max_it,init_temp, alpha, final_temp, initial_state, debug=False):\n",
    "    perturbation = np.zeros(len(initial_state))\n",
    "    #The initial configuration\n",
    "    current_state = initial_state\n",
    "    #The energy at the initial configuration \n",
    "    costs = [f(current_state)]\n",
    "    iterations = [1]\n",
    "    t = init_temp\n",
    "    while (t > final_temp):\n",
    "        for i in range(1, max_it):\n",
    "            #Perturb the configuration and evaluate the difference in terms of energy\n",
    "            for j in range(0, len(initial_state)):\n",
    "                perturbation[j] = move_()\n",
    "            next_state = current_state + perturbation\n",
    "            energy_delta = f(next_state) - f(current_state)\n",
    "            if (debug == True):\n",
    "                print(\"Step #: \" + str(i) + \", Temp = \" +str(t)+ \" Energy = \"+ str(f(current_state)) + \" New Energy = \" + str(f(next_state))+\" delta = \" + str(energy_delta))\n",
    "            if ((energy_delta < 0) or (math.exp(-energy_delta/t))>= random.random()):\n",
    "                #accept the new configuration\n",
    "                current_state = next_state\n",
    "            costs.append(f(current_state))\n",
    "            iterations.append(len(iterations))\n",
    "        t = alpha*t\n",
    "        plt.plot(iterations,costs)\n",
    "    return current_state \n",
    "\n",
    "initial_config = np.random.rand(5)\n",
    "res = simulated_annealing(max_it=10000,init_temp=1000,alpha=.5,final_temp=.1,initial_state=initial_config)\n",
    "print (\"best fit of the algorithm:\", res)\n",
    "print (\"cost function at best fit :\", f(res))\n"
   ]
  },
  {
   "cell_type": "markdown",
   "metadata": {},
   "source": [
    "<h1>Evolutionary Algorithms : NSGA-II</h1>\n",
    "\n"
   ]
  },
  {
   "cell_type": "code",
   "execution_count": 29,
   "metadata": {},
   "outputs": [],
   "source": [
    "from jmetal.algorithm.multiobjective.nsgaii import NSGAII\n",
    "from jmetal.operator import SBXCrossover, PolynomialMutation\n",
    "from jmetal.problem import ZDT6\n",
    "from jmetal.util.termination_criterion import StoppingByEvaluations\n",
    "\n",
    "problem = ZDT6()\n",
    "\n",
    "max_evaluations = 25000\n",
    "\n",
    "algorithm = NSGAII(\n",
    "    problem=problem,\n",
    "    population_size=100,\n",
    "    offspring_population_size=100,\n",
    "    mutation=PolynomialMutation(probability=1.0 / problem.number_of_variables, distribution_index=20),\n",
    "    crossover=SBXCrossover(probability=1.0, distribution_index=20),\n",
    "    termination_criterion=StoppingByEvaluations(max=max_evaluations)\n",
    ")\n",
    "algorithm.run()\n",
    "solutions1 = algorithm.get_result()\n"
   ]
  },
  {
   "cell_type": "code",
   "execution_count": 30,
   "metadata": {},
   "outputs": [
    {
     "data": {
      "image/png": "[encoded data removed]",
      "text/plain": [
       "<Figure size 432x288 with 1 Axes>"
      ]
     },
     "metadata": {
      "needs_background": "light"
     },
     "output_type": "display_data"
    }
   ],
   "source": [
    "from jmetal.lab.visualization.plotting import Plot\n",
    "from jmetal.util.solution import get_non_dominated_solutions\n",
    "\n",
    "front1 = get_non_dominated_solutions(solutions1)\n",
    "\n",
    "plot_front = Plot('Pareto front approximation', axis_labels=['x', 'y'])\n",
    "plot_front.plot(front1, label='NSGAII-ZDT1')"
   ]
  },
  {
   "cell_type": "code",
   "execution_count": 31,
   "metadata": {},
   "outputs": [],
   "source": [
    "from jmetal.algorithm.multiobjective.nsgaii import NSGAII\n",
    "from jmetal.operator import SBXCrossover, PolynomialMutation\n",
    "from jmetal.problem import ZDT2\n",
    "from jmetal.util.termination_criterion import StoppingByEvaluations\n",
    "\n",
    "problem = ZDT2()\n",
    "\n",
    "max_evaluations = 25000\n",
    "\n",
    "algorithm = NSGAII(\n",
    "    problem=problem,\n",
    "    population_size=1000,\n",
    "    offspring_population_size=100,\n",
    "    mutation=PolynomialMutation(probability=1.0 / problem.number_of_variables, distribution_index=20),\n",
    "    crossover=SBXCrossover(probability=1.0, distribution_index=20),\n",
    "    termination_criterion=StoppingByEvaluations(max=max_evaluations)\n",
    ")\n",
    "algorithm.run()\n",
    "solutions2 = algorithm.get_result()"
   ]
  },
  {
   "cell_type": "code",
   "execution_count": 32,
   "metadata": {},
   "outputs": [
    {
     "data": {
      "image/png": "[encoded data removed]",
      "text/plain": [
       "<Figure size 432x288 with 1 Axes>"
      ]
     },
     "metadata": {
      "needs_background": "light"
     },
     "output_type": "display_data"
    }
   ],
   "source": [
    "from jmetal.lab.visualization.plotting import Plot\n",
    "from jmetal.util.solution import get_non_dominated_solutions\n",
    "\n",
    "front1 = get_non_dominated_solutions(solutions1)\n",
    "\n",
    "plot_front = Plot('Pareto front approximation', axis_labels=['x', 'y'])\n",
    "plot_front.plot(front1, label='NSGAII-ZDT2')"
   ]
  },
  {
   "cell_type": "code",
   "execution_count": null,
   "metadata": {},
   "outputs": [],
   "source": []
  },
  {
   "cell_type": "code",
   "execution_count": 27,
   "metadata": {},
   "outputs": [],
   "source": [
    "import pylab as plt\n",
    "\n",
    "solutions1 = algorithm.get_result()\n",
    "front1 = get_non_dominated_solutions(solutions1)\n",
    "solutions2 = algorithm.get_result()\n",
    "front2 = get_non_dominated_solutions(solutions2)\n",
    "\n"
   ]
  },
  {
   "cell_type": "code",
   "execution_count": 28,
   "metadata": {},
   "outputs": [
    {
     "ename": "TypeError",
     "evalue": "scatter() missing 1 required positional argument: 'y'",
     "output_type": "error",
     "traceback": [
      "\u001b[1;31m---------------------------------------------------------------------------\u001b[0m",
      "\u001b[1;31mTypeError\u001b[0m                                 Traceback (most recent call last)",
      "\u001b[1;32m<ipython-input-28-cb76a40664ba>\u001b[0m in \u001b[0;36m<module>\u001b[1;34m\u001b[0m\n\u001b[1;32m----> 1\u001b[1;33m \u001b[0mplt\u001b[0m\u001b[1;33m.\u001b[0m\u001b[0mscatter\u001b[0m\u001b[1;33m(\u001b[0m\u001b[0mfront1\u001b[0m\u001b[1;33m,\u001b[0m \u001b[0mlabel\u001b[0m\u001b[1;33m=\u001b[0m\u001b[1;34m'NSGAII-ZDT1'\u001b[0m\u001b[1;33m,\u001b[0m \u001b[0mcolor\u001b[0m\u001b[1;33m=\u001b[0m \u001b[1;34m\"k\"\u001b[0m\u001b[1;33m)\u001b[0m\u001b[1;33m\u001b[0m\u001b[1;33m\u001b[0m\u001b[0m\n\u001b[0m\u001b[0;32m      2\u001b[0m \u001b[0mplt\u001b[0m\u001b[1;33m.\u001b[0m\u001b[0mscatter\u001b[0m\u001b[1;33m(\u001b[0m\u001b[0mfront2\u001b[0m\u001b[1;33m,\u001b[0m \u001b[0mlabel\u001b[0m\u001b[1;33m=\u001b[0m\u001b[1;34m'NSGAII-ZDT2'\u001b[0m\u001b[1;33m,\u001b[0m \u001b[0mcolor\u001b[0m\u001b[1;33m=\u001b[0m \u001b[1;34m\"g\"\u001b[0m\u001b[1;33m)\u001b[0m\u001b[1;33m\u001b[0m\u001b[1;33m\u001b[0m\u001b[0m\n\u001b[0;32m      3\u001b[0m \u001b[0mplt\u001b[0m\u001b[1;33m.\u001b[0m\u001b[0mshow\u001b[0m\u001b[1;33m(\u001b[0m\u001b[1;33m)\u001b[0m\u001b[1;33m\u001b[0m\u001b[1;33m\u001b[0m\u001b[0m\n",
      "\u001b[1;31mTypeError\u001b[0m: scatter() missing 1 required positional argument: 'y'"
     ]
    }
   ],
   "source": [
    "plt.scatter(front1, label='NSGAII-ZDT1', color= \"k\")\n",
    "plt.scatter(front2, label='NSGAII-ZDT2', color= \"g\")\n",
    "plt.show()"
   ]
  },
  {
   "cell_type": "code",
   "execution_count": null,
   "metadata": {},
   "outputs": [],
   "source": [
    "\n",
    "plt.scatter()\n",
    "Y1 = X + 2*np.random.random(X.shape)\n",
    "Y2 = X**2 + np.random.random(X.shape)\n",
    "\n",
    "plot_front1 = Plot('Pareto front approximation', axis_labels=['x', 'y'])\n",
    "plot_front.plot(front1, label='NSGAII-ZDT1')\n",
    "\n",
    "plt.scatter(X,Y1,color='k')\n",
    "plt.scatter(X,Y2,color='g')\n",
    "plt.show()"
   ]
  },
  {
   "cell_type": "code",
   "execution_count": 42,
   "metadata": {},
   "outputs": [],
   "source": [
    "\n",
    "import numpy as ny \n",
    "#Minimize function given in class\n",
    "def f(xi, xj):\n",
    "    a = (1/ np.linalg.norm(xi[:k]-xj[:k]))**12\n",
    "    b = (1/ np.linalg.norm(xi[:k]-xj[:k]))**6\n",
    "    \n",
    "    sum((x[:D])**2)\n"
   ]
  },
  {
   "cell_type": "markdown",
   "metadata": {},
   "source": [
    "<h1> Nature-Inspired Optimization </h1>"
   ]
  },
  {
   "cell_type": "markdown",
   "metadata": {},
   "source": [
    "Particle Swarm Optimization (PSO) is a powerful algorithm based on Stochastic Optimization and inspired by the rules involved in large flocks of birds."
   ]
  },
  {
   "cell_type": "code",
   "execution_count": 67,
   "metadata": {},
   "outputs": [],
   "source": [
    "from __future__ import division\n",
    "import random as ra\n",
    "import math as ma"
   ]
  },
  {
   "cell_type": "code",
   "execution_count": 68,
   "metadata": {},
   "outputs": [],
   "source": [
    "def function(x):\n",
    "    total=0\n",
    "    for i in range(len(x)):\n",
    "        total+=x[i]**2\n",
    "    return total"
   ]
  },
  {
   "cell_type": "code",
   "execution_count": 69,
   "metadata": {},
   "outputs": [],
   "source": [
    "\n",
    "class Particle:\n",
    "    #initial the attributes\n",
    "    def __init__(self,x0):\n",
    "        self.position_i=[]          # particle position\n",
    "        self.velocity_i=[]          # particle velocity\n",
    "        self.pos_best_i=[]          # best position individual\n",
    "        self.err_best_i=-1          # best error individual\n",
    "        self.err_i=-1               # error individual\n",
    "        \n",
    "        for i in range(0,num_dimensions):\n",
    "            self.velocity_i.append(random.uniform(-1,1))\n",
    "            self.position_i.append(x0[i])\n",
    "            \n",
    "    # evaluate current fitness\n",
    "    def evaluate(self,costFunc):\n",
    "        self.err_i=costFunc(self.position_i)\n",
    "        # check to see if the current position is an individual best\n",
    "        if self.err_i < self.err_best_i or self.err_best_i==-1:\n",
    "            self.pos_best_i=self.position_i\n",
    "            self.err_best_i=self.err_i\n",
    "            \n",
    "    def update_velocity(self,pos_best_g):\n",
    "        w=0.5       # constant inertia weight (how much to weigh the previous velocity)\n",
    "        c1=1        # cognative constant\n",
    "        c2=2        # social constant\n",
    "        \n",
    "        for i in range(0,num_dimensions):\n",
    "            r1=random.random()\n",
    "            r2=random.random()\n",
    "\n",
    "            vel_cognitive=c1*r1*(self.pos_best_i[i]-self.position_i[i])\n",
    "            vel_social=c2*r2*(pos_best_g[i]-self.position_i[i])\n",
    "            self.velocity_i[i]=w*self.velocity_i[i]+vel_cognitive+vel_social\n",
    "\n",
    "    \n",
    "    # update the particle position based off new velocity updates\n",
    "    def update_position(self,bounds):\n",
    "        for i in range(0,num_dimensions):\n",
    "            self.position_i[i]=self.position_i[i]+self.velocity_i[i]\n",
    "\n",
    "            # adjust maximum position if necessary\n",
    "            if self.position_i[i]>bounds[i][1]:\n",
    "                self.position_i[i]=bounds[i][1]\n",
    "\n",
    "            # adjust minimum position if neseccary\n",
    "            if self.position_i[i] < bounds[i][0]:\n",
    "                self.position_i[i]=bounds[i][0]"
   ]
  },
  {
   "cell_type": "code",
   "execution_count": 71,
   "metadata": {},
   "outputs": [],
   "source": [
    "class PSO():\n",
    "    def __init__(self,costFunc,x0,bounds,num_particles,maxiter):\n",
    "        global num_dimensions\n",
    "\n",
    "        num_dimensions=len(x0)\n",
    "        err_best_g=-1                   # best error for group\n",
    "        pos_best_g=[]                   # best position for group\n",
    "\n",
    "        # establish the swarm\n",
    "        swarm=[]\n",
    "        for i in range(0,num_particles):\n",
    "            swarm.append(Particle(x0))\n",
    "\n",
    "        # begin optimization loop\n",
    "        i=0\n",
    "        while i < maxiter:\n",
    "            #print i,err_best_g\n",
    "            # cycle through particles in swarm and evaluate fitness\n",
    "            for j in range(0,num_particles):\n",
    "                swarm[j].evaluate(costFunc)\n",
    "\n",
    "                # determine if current particle is the best (globally)\n",
    "                if swarm[j].err_i < err_best_g or err_best_g == -1:\n",
    "                    pos_best_g=list(swarm[j].position_i)\n",
    "                    err_best_g=float(swarm[j].err_i)\n",
    "\n",
    "            # cycle through swarm and update velocities and position\n",
    "            for j in range(0,num_particles):\n",
    "                swarm[j].update_velocity(pos_best_g)\n",
    "                swarm[j].update_position(bounds)\n",
    "            i+=1\n",
    "\n",
    "        # print final results\n",
    "        print ('FINAL:')\n",
    "        print (pos_best_g)\n",
    "        print (err_best_g)\n",
    "\n",
    "if __name__ == \"__PSO__\":\n",
    "    main()"
   ]
  },
  {
   "cell_type": "code",
   "execution_count": 132,
   "metadata": {},
   "outputs": [
    {
     "name": "stdout",
     "output_type": "stream",
     "text": [
      "FINAL:\n",
      "[-0.0004145268505387663, 0.0007812077818332851]\n",
      "7.821181082144703e-07\n"
     ]
    },
    {
     "data": {
      "text/plain": [
       "<__main__.PSO at 0x21284b8bec8>"
      ]
     },
     "execution_count": 132,
     "metadata": {},
     "output_type": "execute_result"
    }
   ],
   "source": [
    "initial=[5,5]               # initial starting location [x1,x2...]\n",
    "bounds=[(-10,10),(-10,10)]  # input bounds [(x1_min,x1_max),(x2_min,x2_max)...]\n",
    "PSO(func1,initial,bounds,num_particles=15,maxiter=30)"
   ]
  },
  {
   "cell_type": "code",
   "execution_count": 134,
   "metadata": {},
   "outputs": [
    {
     "name": "stdout",
     "output_type": "stream",
     "text": [
      "hello what is your name aida\n"
     ]
    }
   ],
   "source": [
    "x= input (\"hello what is your name \")"
   ]
  },
  {
   "cell_type": "code",
   "execution_count": 147,
   "metadata": {},
   "outputs": [],
   "source": [
    "#function table de multiplication par 7\n",
    "def function (nb, max =10):\n",
    "    i= 0\n",
    "    while i < max :\n",
    "        print(i + 1, \"*\", nb, \"=\", (i + 1) * nb)\n",
    "        i += 1\n",
    "        "
   ]
  },
  {
   "cell_type": "code",
   "execution_count": 148,
   "metadata": {},
   "outputs": [
    {
     "name": "stdout",
     "output_type": "stream",
     "text": [
      "1 * 7 = 7\n",
      "2 * 7 = 14\n",
      "3 * 7 = 21\n",
      "4 * 7 = 28\n",
      "5 * 7 = 35\n",
      "6 * 7 = 42\n",
      "7 * 7 = 49\n",
      "8 * 7 = 56\n",
      "9 * 7 = 63\n",
      "10 * 7 = 70\n"
     ]
    }
   ],
   "source": [
    "function(7)"
   ]
  },
  {
   "cell_type": "code",
   "execution_count": 150,
   "metadata": {},
   "outputs": [
    {
     "data": {
      "text/plain": [
       "4"
      ]
     },
     "execution_count": 150,
     "metadata": {},
     "output_type": "execute_result"
    }
   ],
   "source": [
    "##Create an lambda function\n",
    "test = lambda x : x*x\n",
    "test (2)"
   ]
  },
  {
   "cell_type": "code",
   "execution_count": 151,
   "metadata": {},
   "outputs": [
    {
     "name": "stdout",
     "output_type": "stream",
     "text": [
      "Help on built-in module math:\n",
      "\n",
      "NAME\n",
      "    math\n",
      "\n",
      "DESCRIPTION\n",
      "    This module provides access to the mathematical functions\n",
      "    defined by the C standard.\n",
      "\n",
      "FUNCTIONS\n",
      "    acos(x, /)\n",
      "        Return the arc cosine (measured in radians) of x.\n",
      "    \n",
      "    acosh(x, /)\n",
      "        Return the inverse hyperbolic cosine of x.\n",
      "    \n",
      "    asin(x, /)\n",
      "        Return the arc sine (measured in radians) of x.\n",
      "    \n",
      "    asinh(x, /)\n",
      "        Return the inverse hyperbolic sine of x.\n",
      "    \n",
      "    atan(x, /)\n",
      "        Return the arc tangent (measured in radians) of x.\n",
      "    \n",
      "    atan2(y, x, /)\n",
      "        Return the arc tangent (measured in radians) of y/x.\n",
      "        \n",
      "        Unlike atan(y/x), the signs of both x and y are considered.\n",
      "    \n",
      "    atanh(x, /)\n",
      "        Return the inverse hyperbolic tangent of x.\n",
      "    \n",
      "    ceil(x, /)\n",
      "        Return the ceiling of x as an Integral.\n",
      "        \n",
      "        This is the smallest integer >= x.\n",
      "    \n",
      "    copysign(x, y, /)\n",
      "        Return a float with the magnitude (absolute value) of x but the sign of y.\n",
      "        \n",
      "        On platforms that support signed zeros, copysign(1.0, -0.0)\n",
      "        returns -1.0.\n",
      "    \n",
      "    cos(x, /)\n",
      "        Return the cosine of x (measured in radians).\n",
      "    \n",
      "    cosh(x, /)\n",
      "        Return the hyperbolic cosine of x.\n",
      "    \n",
      "    degrees(x, /)\n",
      "        Convert angle x from radians to degrees.\n",
      "    \n",
      "    erf(x, /)\n",
      "        Error function at x.\n",
      "    \n",
      "    erfc(x, /)\n",
      "        Complementary error function at x.\n",
      "    \n",
      "    exp(x, /)\n",
      "        Return e raised to the power of x.\n",
      "    \n",
      "    expm1(x, /)\n",
      "        Return exp(x)-1.\n",
      "        \n",
      "        This function avoids the loss of precision involved in the direct evaluation of exp(x)-1 for small x.\n",
      "    \n",
      "    fabs(x, /)\n",
      "        Return the absolute value of the float x.\n",
      "    \n",
      "    factorial(x, /)\n",
      "        Find x!.\n",
      "        \n",
      "        Raise a ValueError if x is negative or non-integral.\n",
      "    \n",
      "    floor(x, /)\n",
      "        Return the floor of x as an Integral.\n",
      "        \n",
      "        This is the largest integer <= x.\n",
      "    \n",
      "    fmod(x, y, /)\n",
      "        Return fmod(x, y), according to platform C.\n",
      "        \n",
      "        x % y may differ.\n",
      "    \n",
      "    frexp(x, /)\n",
      "        Return the mantissa and exponent of x, as pair (m, e).\n",
      "        \n",
      "        m is a float and e is an int, such that x = m * 2.**e.\n",
      "        If x is 0, m and e are both 0.  Else 0.5 <= abs(m) < 1.0.\n",
      "    \n",
      "    fsum(seq, /)\n",
      "        Return an accurate floating point sum of values in the iterable seq.\n",
      "        \n",
      "        Assumes IEEE-754 floating point arithmetic.\n",
      "    \n",
      "    gamma(x, /)\n",
      "        Gamma function at x.\n",
      "    \n",
      "    gcd(x, y, /)\n",
      "        greatest common divisor of x and y\n",
      "    \n",
      "    hypot(x, y, /)\n",
      "        Return the Euclidean distance, sqrt(x*x + y*y).\n",
      "    \n",
      "    isclose(a, b, *, rel_tol=1e-09, abs_tol=0.0)\n",
      "        Determine whether two floating point numbers are close in value.\n",
      "        \n",
      "          rel_tol\n",
      "            maximum difference for being considered \"close\", relative to the\n",
      "            magnitude of the input values\n",
      "          abs_tol\n",
      "            maximum difference for being considered \"close\", regardless of the\n",
      "            magnitude of the input values\n",
      "        \n",
      "        Return True if a is close in value to b, and False otherwise.\n",
      "        \n",
      "        For the values to be considered close, the difference between them\n",
      "        must be smaller than at least one of the tolerances.\n",
      "        \n",
      "        -inf, inf and NaN behave similarly to the IEEE 754 Standard.  That\n",
      "        is, NaN is not close to anything, even itself.  inf and -inf are\n",
      "        only close to themselves.\n",
      "    \n",
      "    isfinite(x, /)\n",
      "        Return True if x is neither an infinity nor a NaN, and False otherwise.\n",
      "    \n",
      "    isinf(x, /)\n",
      "        Return True if x is a positive or negative infinity, and False otherwise.\n",
      "    \n",
      "    isnan(x, /)\n",
      "        Return True if x is a NaN (not a number), and False otherwise.\n",
      "    \n",
      "    ldexp(x, i, /)\n",
      "        Return x * (2**i).\n",
      "        \n",
      "        This is essentially the inverse of frexp().\n",
      "    \n",
      "    lgamma(x, /)\n",
      "        Natural logarithm of absolute value of Gamma function at x.\n",
      "    \n",
      "    log(...)\n",
      "        log(x, [base=math.e])\n",
      "        Return the logarithm of x to the given base.\n",
      "        \n",
      "        If the base not specified, returns the natural logarithm (base e) of x.\n",
      "    \n",
      "    log10(x, /)\n",
      "        Return the base 10 logarithm of x.\n",
      "    \n",
      "    log1p(x, /)\n",
      "        Return the natural logarithm of 1+x (base e).\n",
      "        \n",
      "        The result is computed in a way which is accurate for x near zero.\n",
      "    \n",
      "    log2(x, /)\n",
      "        Return the base 2 logarithm of x.\n",
      "    \n",
      "    modf(x, /)\n",
      "        Return the fractional and integer parts of x.\n",
      "        \n",
      "        Both results carry the sign of x and are floats.\n",
      "    \n",
      "    pow(x, y, /)\n",
      "        Return x**y (x to the power of y).\n",
      "    \n",
      "    radians(x, /)\n",
      "        Convert angle x from degrees to radians.\n",
      "    \n",
      "    remainder(x, y, /)\n",
      "        Difference between x and the closest integer multiple of y.\n",
      "        \n",
      "        Return x - n*y where n*y is the closest integer multiple of y.\n",
      "        In the case where x is exactly halfway between two multiples of\n",
      "        y, the nearest even value of n is used. The result is always exact.\n",
      "    \n",
      "    sin(x, /)\n",
      "        Return the sine of x (measured in radians).\n",
      "    \n",
      "    sinh(x, /)\n",
      "        Return the hyperbolic sine of x.\n",
      "    \n",
      "    sqrt(x, /)\n",
      "        Return the square root of x.\n",
      "    \n",
      "    tan(x, /)\n",
      "        Return the tangent of x (measured in radians).\n",
      "    \n",
      "    tanh(x, /)\n",
      "        Return the hyperbolic tangent of x.\n",
      "    \n",
      "    trunc(x, /)\n",
      "        Truncates the Real x to the nearest Integral toward 0.\n",
      "        \n",
      "        Uses the __trunc__ magic method.\n",
      "\n",
      "DATA\n",
      "    e = 2.718281828459045\n",
      "    inf = inf\n",
      "    nan = nan\n",
      "    pi = 3.141592653589793\n",
      "    tau = 6.283185307179586\n",
      "\n",
      "FILE\n",
      "    (built-in)\n",
      "\n",
      "\n"
     ]
    }
   ],
   "source": [
    "help (\"math\")"
   ]
  },
  {
   "cell_type": "code",
   "execution_count": null,
   "metadata": {},
   "outputs": [],
   "source": []
  }
 ],
 "metadata": {
  "kernelspec": {
   "display_name": "Python 3",
   "language": "python",
   "name": "python3"
  },
  "language_info": {
   "codemirror_mode": {
    "name": "ipython",
    "version": 3
   },
   "file_extension": ".py",
   "mimetype": "text/x-python",
   "name": "python",
   "nbconvert_exporter": "python",
   "pygments_lexer": "ipython3",
   "version": "3.7.4"
  }
 },
 "nbformat": 4,
 "nbformat_minor": 2
}
